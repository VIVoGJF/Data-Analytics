{
 "cells": [
  {
   "cell_type": "markdown",
   "id": "f7ef83fb",
   "metadata": {},
   "source": [
    "## How well do jobs and skills pay for Data Analysts?\n",
    "\n",
    "### Impoting and Cleaning Data"
   ]
  },
  {
   "cell_type": "code",
   "execution_count": 1,
   "id": "3beae930",
   "metadata": {},
   "outputs": [],
   "source": [
    "#importing libraries\n",
    "import ast\n",
    "import pandas as pd\n",
    "import seaborn as sns\n",
    "import matplotlib.pyplot as plt\n",
    "from datasets import load_dataset\n",
    "\n",
    "#loading data\n",
    "datasets = load_dataset('lukebarousse/data_jobs')\n",
    "df = datasets['train'].to_pandas()\n",
    "\n",
    "# data cleaning\n",
    "df['job_posted_date'] = pd.to_datetime(df.job_posted_date)\n",
    "df['job_skills'] = df['job_skills'].apply(lambda skl_lst: ast.literal_eval(skl_lst) if pd.notna(skl_lst) else skl_lst )"
   ]
  },
  {
   "cell_type": "markdown",
   "id": "2589a38b",
   "metadata": {},
   "source": [
    "### Salary Distribution by Job Title"
   ]
  },
  {
   "cell_type": "code",
   "execution_count": 2,
   "id": "f2f9f130",
   "metadata": {},
   "outputs": [
    {
     "data": {
      "text/plain": [
       "['Data Engineer',\n",
       " 'Data Analyst',\n",
       " 'Data Scientist',\n",
       " 'Senior Data Engineer',\n",
       " 'Senior Data Analyst',\n",
       " 'Senior Data Scientist']"
      ]
     },
     "execution_count": 2,
     "metadata": {},
     "output_type": "execute_result"
    }
   ],
   "source": [
    "df_india = df[df.job_country == 'India'].dropna(subset=['salary_year_avg']).copy()\n",
    "\n",
    "job_titles = df_india['job_title_short'].value_counts().index[:3].tolist()\n",
    "\n",
    "for i in range(len(job_titles)):\n",
    "    job_titles.append(f'Senior {job_titles[i]}')\n",
    "    \n",
    "df_top6 = df_india[df_india['job_title_short'].isin(job_titles)]\n",
    "\n",
    "job_order = df_top6.groupby('job_title_short')['salary_year_avg'].median().sort_values(ascending=False).index\n",
    "\n",
    "job_titles"
   ]
  },
  {
   "cell_type": "markdown",
   "id": "89c5b126",
   "metadata": {},
   "source": [
    "### Plot Salary Distribution"
   ]
  },
  {
   "cell_type": "code",
   "execution_count": 3,
   "id": "b679faf5",
   "metadata": {},
   "outputs": [
    {
     "data": {
      "image/png": "[encoded data removed]",
      "text/plain": [
       "<Figure size 640x480 with 1 Axes>"
      ]
     },
     "metadata": {},
     "output_type": "display_data"
    }
   ],
   "source": [
    "sns.boxplot(data=df_top6, x='salary_year_avg', y='job_title_short', order=job_order)\n",
    "sns.set_theme(style='ticks')\n",
    "sns.despine()\n",
    "\n",
    "plt.title('Salary Distributions of Data Jobs in India')\n",
    "plt.xlabel('Yearly Salary (USD)')\n",
    "plt.ylabel('')\n",
    "plt.xlim(0, 270000) \n",
    "ticks_x = plt.FuncFormatter(lambda y, pos: f'${int(y/1000)}K')\n",
    "plt.gca().xaxis.set_major_formatter(ticks_x)\n",
    "plt.show()\n"
   ]
  },
  {
   "cell_type": "markdown",
   "id": "34f7b38d",
   "metadata": {},
   "source": [
    "### Investigate Median Salary Vs Skill for Data Analysts"
   ]
  },
  {
   "cell_type": "code",
   "execution_count": 4,
   "id": "e2f172ee",
   "metadata": {},
   "outputs": [
    {
     "data": {
      "text/html": [
       "<div>\n",
       "<style scoped>\n",
       "    .dataframe tbody tr th:only-of-type {\n",
       "        vertical-align: middle;\n",
       "    }\n",
       "\n",
       "    .dataframe tbody tr th {\n",
       "        vertical-align: top;\n",
       "    }\n",
       "\n",
       "    .dataframe thead th {\n",
       "        text-align: right;\n",
       "    }\n",
       "</style>\n",
       "<table border=\"1\" class=\"dataframe\">\n",
       "  <thead>\n",
       "    <tr style=\"text-align: right;\">\n",
       "      <th></th>\n",
       "      <th>salary_year_avg</th>\n",
       "      <th>job_skills</th>\n",
       "    </tr>\n",
       "  </thead>\n",
       "  <tbody>\n",
       "    <tr>\n",
       "      <th>11412</th>\n",
       "      <td>50400.0</td>\n",
       "      <td>python</td>\n",
       "    </tr>\n",
       "    <tr>\n",
       "      <th>11412</th>\n",
       "      <td>50400.0</td>\n",
       "      <td>sql</td>\n",
       "    </tr>\n",
       "    <tr>\n",
       "      <th>11412</th>\n",
       "      <td>50400.0</td>\n",
       "      <td>aws</td>\n",
       "    </tr>\n",
       "    <tr>\n",
       "      <th>11412</th>\n",
       "      <td>50400.0</td>\n",
       "      <td>azure</td>\n",
       "    </tr>\n",
       "    <tr>\n",
       "      <th>11412</th>\n",
       "      <td>50400.0</td>\n",
       "      <td>excel</td>\n",
       "    </tr>\n",
       "  </tbody>\n",
       "</table>\n",
       "</div>"
      ],
      "text/plain": [
       "       salary_year_avg job_skills\n",
       "11412          50400.0     python\n",
       "11412          50400.0        sql\n",
       "11412          50400.0        aws\n",
       "11412          50400.0      azure\n",
       "11412          50400.0      excel"
      ]
     },
     "execution_count": 4,
     "metadata": {},
     "output_type": "execute_result"
    }
   ],
   "source": [
    "df_da = df[(df['job_title_short'] == 'Data Analyst') & (df['job_country'] == 'India')].copy()\n",
    "\n",
    "df_da = df_da.dropna(subset=['salary_year_avg'])\n",
    "\n",
    "df_da = df_da.explode('job_skills')\n",
    "\n",
    "df_da[['salary_year_avg', 'job_skills']].head(5)"
   ]
  },
  {
   "cell_type": "markdown",
   "id": "08b47955",
   "metadata": {},
   "source": [
    "### Determine The Highest Paid Skills and Most Demanded Skills\n",
    "\n",
    "##### Highest Paid Skills:"
   ]
  },
  {
   "cell_type": "code",
   "execution_count": 5,
   "id": "e4435f90",
   "metadata": {},
   "outputs": [
    {
     "data": {
      "text/html": [
       "<div>\n",
       "<style scoped>\n",
       "    .dataframe tbody tr th:only-of-type {\n",
       "        vertical-align: middle;\n",
       "    }\n",
       "\n",
       "    .dataframe tbody tr th {\n",
       "        vertical-align: top;\n",
       "    }\n",
       "\n",
       "    .dataframe thead th {\n",
       "        text-align: right;\n",
       "    }\n",
       "</style>\n",
       "<table border=\"1\" class=\"dataframe\">\n",
       "  <thead>\n",
       "    <tr style=\"text-align: right;\">\n",
       "      <th></th>\n",
       "      <th>count</th>\n",
       "      <th>median</th>\n",
       "    </tr>\n",
       "    <tr>\n",
       "      <th>job_skills</th>\n",
       "      <th></th>\n",
       "      <th></th>\n",
       "    </tr>\n",
       "  </thead>\n",
       "  <tbody>\n",
       "    <tr>\n",
       "      <th>pyspark</th>\n",
       "      <td>1</td>\n",
       "      <td>165000.0</td>\n",
       "    </tr>\n",
       "    <tr>\n",
       "      <th>linux</th>\n",
       "      <td>1</td>\n",
       "      <td>165000.0</td>\n",
       "    </tr>\n",
       "    <tr>\n",
       "      <th>gitlab</th>\n",
       "      <td>1</td>\n",
       "      <td>165000.0</td>\n",
       "    </tr>\n",
       "    <tr>\n",
       "      <th>mysql</th>\n",
       "      <td>1</td>\n",
       "      <td>165000.0</td>\n",
       "    </tr>\n",
       "    <tr>\n",
       "      <th>postgresql</th>\n",
       "      <td>1</td>\n",
       "      <td>165000.0</td>\n",
       "    </tr>\n",
       "    <tr>\n",
       "      <th>mongodb</th>\n",
       "      <td>6</td>\n",
       "      <td>163782.0</td>\n",
       "    </tr>\n",
       "    <tr>\n",
       "      <th>gdpr</th>\n",
       "      <td>2</td>\n",
       "      <td>163782.0</td>\n",
       "    </tr>\n",
       "    <tr>\n",
       "      <th>neo4j</th>\n",
       "      <td>1</td>\n",
       "      <td>163782.0</td>\n",
       "    </tr>\n",
       "    <tr>\n",
       "      <th>databricks</th>\n",
       "      <td>3</td>\n",
       "      <td>163782.0</td>\n",
       "    </tr>\n",
       "    <tr>\n",
       "      <th>scala</th>\n",
       "      <td>3</td>\n",
       "      <td>163782.0</td>\n",
       "    </tr>\n",
       "  </tbody>\n",
       "</table>\n",
       "</div>"
      ],
      "text/plain": [
       "            count    median\n",
       "job_skills                 \n",
       "pyspark         1  165000.0\n",
       "linux           1  165000.0\n",
       "gitlab          1  165000.0\n",
       "mysql           1  165000.0\n",
       "postgresql      1  165000.0\n",
       "mongodb         6  163782.0\n",
       "gdpr            2  163782.0\n",
       "neo4j           1  163782.0\n",
       "databricks      3  163782.0\n",
       "scala           3  163782.0"
      ]
     },
     "execution_count": 5,
     "metadata": {},
     "output_type": "execute_result"
    }
   ],
   "source": [
    "df_top_pay = df_da.groupby('job_skills')['salary_year_avg'].agg(['count', 'median']).sort_values(by='median', ascending=False)\n",
    "\n",
    "df_top_pay = df_top_pay.head(10)\n",
    "\n",
    "df_top_pay"
   ]
  },
  {
   "cell_type": "markdown",
   "id": "c4a2f1e5",
   "metadata": {},
   "source": [
    "##### Most Demanded Skills:"
   ]
  },
  {
   "cell_type": "code",
   "execution_count": 6,
   "id": "2d2e1b98",
   "metadata": {},
   "outputs": [
    {
     "data": {
      "text/html": [
       "<div>\n",
       "<style scoped>\n",
       "    .dataframe tbody tr th:only-of-type {\n",
       "        vertical-align: middle;\n",
       "    }\n",
       "\n",
       "    .dataframe tbody tr th {\n",
       "        vertical-align: top;\n",
       "    }\n",
       "\n",
       "    .dataframe thead th {\n",
       "        text-align: right;\n",
       "    }\n",
       "</style>\n",
       "<table border=\"1\" class=\"dataframe\">\n",
       "  <thead>\n",
       "    <tr style=\"text-align: right;\">\n",
       "      <th></th>\n",
       "      <th>count</th>\n",
       "      <th>median</th>\n",
       "    </tr>\n",
       "    <tr>\n",
       "      <th>job_skills</th>\n",
       "      <th></th>\n",
       "      <th></th>\n",
       "    </tr>\n",
       "  </thead>\n",
       "  <tbody>\n",
       "    <tr>\n",
       "      <th>spark</th>\n",
       "      <td>11</td>\n",
       "      <td>111175.0</td>\n",
       "    </tr>\n",
       "    <tr>\n",
       "      <th>power bi</th>\n",
       "      <td>17</td>\n",
       "      <td>111175.0</td>\n",
       "    </tr>\n",
       "    <tr>\n",
       "      <th>tableau</th>\n",
       "      <td>20</td>\n",
       "      <td>108087.5</td>\n",
       "    </tr>\n",
       "    <tr>\n",
       "      <th>excel</th>\n",
       "      <td>39</td>\n",
       "      <td>98500.0</td>\n",
       "    </tr>\n",
       "    <tr>\n",
       "      <th>sql</th>\n",
       "      <td>46</td>\n",
       "      <td>96050.0</td>\n",
       "    </tr>\n",
       "    <tr>\n",
       "      <th>python</th>\n",
       "      <td>36</td>\n",
       "      <td>96050.0</td>\n",
       "    </tr>\n",
       "    <tr>\n",
       "      <th>azure</th>\n",
       "      <td>15</td>\n",
       "      <td>93600.0</td>\n",
       "    </tr>\n",
       "    <tr>\n",
       "      <th>r</th>\n",
       "      <td>18</td>\n",
       "      <td>79200.0</td>\n",
       "    </tr>\n",
       "    <tr>\n",
       "      <th>aws</th>\n",
       "      <td>12</td>\n",
       "      <td>79200.0</td>\n",
       "    </tr>\n",
       "    <tr>\n",
       "      <th>oracle</th>\n",
       "      <td>11</td>\n",
       "      <td>79200.0</td>\n",
       "    </tr>\n",
       "  </tbody>\n",
       "</table>\n",
       "</div>"
      ],
      "text/plain": [
       "            count    median\n",
       "job_skills                 \n",
       "spark          11  111175.0\n",
       "power bi       17  111175.0\n",
       "tableau        20  108087.5\n",
       "excel          39   98500.0\n",
       "sql            46   96050.0\n",
       "python         36   96050.0\n",
       "azure          15   93600.0\n",
       "r              18   79200.0\n",
       "aws            12   79200.0\n",
       "oracle         11   79200.0"
      ]
     },
     "execution_count": 6,
     "metadata": {},
     "output_type": "execute_result"
    }
   ],
   "source": [
    "df_skills = df_da.groupby('job_skills')['salary_year_avg'].agg(['count', 'median']).sort_values(by='count', ascending=False)\n",
    "\n",
    "df_skills = df_skills.head(10).sort_values(by='median', ascending=False)\n",
    "\n",
    "df_skills"
   ]
  },
  {
   "cell_type": "markdown",
   "id": "01df25e6",
   "metadata": {},
   "source": [
    "### Ploting HorizontalBar Charts"
   ]
  },
  {
   "cell_type": "code",
   "execution_count": 7,
   "id": "3d3c7b86",
   "metadata": {},
   "outputs": [
    {
     "data": {
      "image/png": "[encoded data removed]",
      "text/plain": [
       "<Figure size 640x480 with 2 Axes>"
      ]
     },
     "metadata": {},
     "output_type": "display_data"
    }
   ],
   "source": [
    "ig, ax = plt.subplots(2, 1)  \n",
    "\n",
    "sns.barplot(data=df_top_pay, x='median', y=df_top_pay.index, hue='median', ax=ax[0], palette='dark:y_r')\n",
    "ax[0].legend().remove()\n",
    "\n",
    "ax[0].set_title('Highest Paid Skills for Data Analysts in India')\n",
    "ax[0].set_ylabel('')\n",
    "ax[0].set_xlabel('')\n",
    "ax[0].set_xlim(160000,166000)\n",
    "ax[0].xaxis.set_major_formatter(plt.FuncFormatter(lambda x, _: f'${int(x/1000)}K'))\n",
    "\n",
    "\n",
    "sns.barplot(data=df_skills, x='median', y=df_skills.index, hue='median', ax=ax[1], palette='light:y')\n",
    "ax[1].legend().remove()\n",
    "\n",
    "ax[1].set_title('Most In-Demand Skills for Data Analysts in India')\n",
    "ax[1].set_ylabel('')\n",
    "ax[1].set_xlabel('Median Salary (USD)')\n",
    "ax[1].set_xlim(0, 166000)  # Set the same x-axis limits as the first plot\n",
    "ax[1].xaxis.set_major_formatter(plt.FuncFormatter(lambda x, _: f'${int(x/1000)}K'))\n",
    "\n",
    "sns.set_theme(style='ticks')\n",
    "plt.tight_layout()\n",
    "plt.show()"
   ]
  }
 ],
 "metadata": {
  "kernelspec": {
   "display_name": "Python 3",
   "language": "python",
   "name": "python3"
  },
  "language_info": {
   "codemirror_mode": {
    "name": "ipython",
    "version": 3
   },
   "file_extension": ".py",
   "mimetype": "text/x-python",
   "name": "python",
   "nbconvert_exporter": "python",
   "pygments_lexer": "ipython3",
   "version": "3.13.3"
  }
 },
 "nbformat": 4,
 "nbformat_minor": 5
}
